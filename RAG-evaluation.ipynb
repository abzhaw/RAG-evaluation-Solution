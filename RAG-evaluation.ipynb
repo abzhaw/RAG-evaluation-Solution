{
 "cells": [
  {
   "cell_type": "markdown",
   "metadata": {
    "vscode": {
     "languageId": "plaintext"
    }
   },
   "source": [
    "# Retrieval Augmented Generation modification and Evaluation"
   ]
  },
  {
   "cell_type": "markdown",
   "metadata": {},
   "source": [
    "note: httpx verion 0.27.0  is necessary to use the httpx.AsyncClient with groq. langchain issue that needs fixing."
   ]
  },
  {
   "cell_type": "code",
   "execution_count": 63,
   "metadata": {},
   "outputs": [],
   "source": [
    "import os\n",
    "import json\n",
    "\n",
    "# Third-party library imports\n",
    "from dotenv import load_dotenv  # For loading environment variables from a .env file\n",
    "from PyPDF2 import PdfReader  # For reading PDF files\n",
    "import tqdm  # For displaying progress bars in loops\n",
    "import tqdm as notebook_tqdm\n",
    "from langchain_community.vectorstores import Chroma\n",
    "import glob\n",
    "from langchain.text_splitter import RecursiveCharacterTextSplitter  # For splitting text into manageable chunks\n",
    "from langchain_huggingface import HuggingFaceEmbeddings\n",
    "from langchain.prompts import PromptTemplate, ChatPromptTemplate  # For defining and managing prompt templates\n",
    "from langchain_groq import ChatGroq\n",
    "from langchain.chains.combine_documents import create_stuff_documents_chain  # For combining retrieved documents into a coherent chain\n",
    "from langchain_core.messages import HumanMessage, AIMessage  # For handling human and AI messages\n",
    "from langchain_core.runnables import RunnablePassthrough\n",
    "from langchain_core.output_parsers import StrOutputParser  # For parsing string outputs from models\n",
    "from langchain_openai import ChatOpenAI\n",
    "from huggingface_hub import InferenceClient\n",
    "import openai\n",
    "import random\n",
    "import pandas as pd\n",
    "\n"
   ]
  },
  {
   "cell_type": "code",
   "execution_count": 11,
   "metadata": {},
   "outputs": [],
   "source": [
    "load_dotenv()\n",
    "groq_key = os.getenv(\"GROQ_API_KEY\")\n",
    "hf_key = os.getenv(\"HF_ACCESS_TOKEN\")\n",
    "openai.api_key = os.getenv(\"OPENAI_API_KEY\")"
   ]
  },
  {
   "cell_type": "code",
   "execution_count": 3,
   "metadata": {},
   "outputs": [
    {
     "name": "stderr",
     "output_type": "stream",
     "text": [
      "100%|██████████| 2/2 [00:02<00:00,  1.22s/it]\n"
     ]
    },
    {
     "data": {
      "text/plain": [
       "'Hyper tension in adul ts: \\ndiagnosis and manag eme'"
      ]
     },
     "execution_count": 3,
     "metadata": {},
     "output_type": "execute_result"
    }
   ],
   "source": [
    "### load the pdf from the path\n",
    "glob_path = \"data/*.pdf\"\n",
    "text = \"\"\n",
    "for pdf_path in tqdm.tqdm(glob.glob(glob_path)):\n",
    "    with open(pdf_path, \"rb\") as file:\n",
    "        reader = PdfReader(file)\n",
    "         # Extract text from all pages in the PDF\n",
    "        text += \" \".join(page.extract_text() for page in reader.pages if page.extract_text())\n",
    "\n",
    "text[:50]"
   ]
  },
  {
   "cell_type": "code",
   "execution_count": 4,
   "metadata": {},
   "outputs": [],
   "source": [
    "def split_texts(text:str, chunk_size:int, chunk_overlap:int):\n",
    "    \"\"\"\n",
    "    Split a text into chunks of a given size with a given overlap.\n",
    "    \n",
    "    Args:\n",
    "        text (str): The text to split.\n",
    "        chunk_size (int): The size of the chunks to split the text into.\n",
    "        chunk_overlap (int): The number of characters to overlap between chunks.\n",
    "        \n",
    "    Returns:\n",
    "        List[str]: A list of text chunks.\n",
    "    \"\"\"\n",
    "    \n",
    "    splitter = RecursiveCharacterTextSplitter(chunk_size=chunk_size, chunk_overlap=chunk_overlap)\n",
    "    # Split the extracted text into manageable chunks\n",
    "    chunks = splitter.split_text(text)\n",
    "    return chunks\n",
    "\n"
   ]
  },
  {
   "cell_type": "code",
   "execution_count": 5,
   "metadata": {},
   "outputs": [
    {
     "name": "stdout",
     "output_type": "stream",
     "text": [
      "130\n",
      "Hyper tension in adul ts: \n",
      "diagnosis and manag emen t \n",
      "NICE guideline \n",
      "Published: 28 August 2019 \n",
      "Last updat ed: 21 No vember 2023 \n",
      "www .nice.or g.uk/guidance/ng136 \n",
      "© NICE 202 4. All right s reserved. Subject t o Notice of right s (https://www .nice.or g.uk/t erms-and-\n",
      "conditions#notice-of -right s). Your r esponsi bility \n",
      "The r ecommendations in t his guideline r epresent t he view of NICE, arriv ed at aft er car eful \n",
      "consideration of t he evidence a vailable. When e xercising t heir judgement, pr ofessionals \n",
      "and practitioners ar e expect ed to tak e this guideline fully int o account, alongside t he \n",
      "individual needs, pr eferences and v alues of t heir patient s or t he people using t heir ser vice. \n",
      "It is not mandat ory to apply t he recommendations, and t he guideline does not o verride t he \n",
      "responsibility t o mak e decisions appr opriat e to the cir cumstances of t he individual, in \n",
      "consultation wit h them and t heir f amilies and car ers or guar dian. \n",
      "All pr oblems (adv erse e vents) related to a medicine or medical de vice used f or treatment \n",
      "or in a pr ocedur e should be r epor ted to the Medicines and Healt hcare product s Regulat ory \n",
      "Agency using t he Yellow Car d Scheme . \n",
      "Local commissioners and pr oviders of healt hcare have a responsibility t o enable t he \n",
      "guideline t o be applied when individual pr ofessionals and people using ser vices wish t o \n",
      "use it. The y should do so in t he cont ext of local and national priorities f or funding and \n",
      "developing ser vices, and in light of t heir duties t o have due r egar d to the need t o eliminat e \n",
      "unlawful discrimination, t o adv ance equality of oppor tunity and t o reduce healt h \n",
      "inequalities. Not hing in t his guideline should be int erpreted in a wa y that w ould be \n",
      "inconsist ent wit h complying wit h those duties. \n",
      "Commissioners and pr oviders ha ve a responsibility t o promot e an en vironmentally \n",
      "sustainable healt h and car e syst em and should assess and r educe t he en vironmental\n"
     ]
    }
   ],
   "source": [
    "chunks = split_texts(text, 2000, 200)\n",
    "print(len(chunks))\n",
    "print(chunks[0])"
   ]
  },
  {
   "cell_type": "code",
   "execution_count": 6,
   "metadata": {},
   "outputs": [
    {
     "name": "stderr",
     "output_type": "stream",
     "text": [
      "/Users/jasminheierli/ZHAW/RAG-evaluation/.venv/lib/python3.12/site-packages/tqdm/auto.py:21: TqdmWarning: IProgress not found. Please update jupyter and ipywidgets. See https://ipywidgets.readthedocs.io/en/stable/user_install.html\n",
      "  from .autonotebook import tqdm as notebook_tqdm\n"
     ]
    }
   ],
   "source": [
    "embeddings = HuggingFaceEmbeddings(model_name=\"sentence-transformers/all-mpnet-base-v2\")\n",
    "\n"
   ]
  },
  {
   "cell_type": "code",
   "execution_count": 7,
   "metadata": {},
   "outputs": [],
   "source": [
    "vector_store = Chroma.from_texts(chunks, embeddings)"
   ]
  },
  {
   "cell_type": "code",
   "execution_count": 8,
   "metadata": {},
   "outputs": [],
   "source": [
    "retriever = vector_store.as_retriever(search_type=\"mmr\", search_kwargs={\"k\": 2})"
   ]
  },
  {
   "cell_type": "code",
   "execution_count": 13,
   "metadata": {},
   "outputs": [
    {
     "data": {
      "text/plain": [
       "[Document(metadata={}, page_content='medical r ecords, alongside t he coded diagnostic entr y. [NICE 2017 , amended \\nBTS/NICE/SIGN 202 4] Asthma: diagnosis, monit oring and chr onic ast hma management (BTS, NICE, SIGN)\\n(NG2 45)\\n© NICE 202 4. All right s reserved. Subject t o Notice of right s (https://www .nice.or g.uk/t erms-and-\\nconditions#notice-of -right s).Page 9 of\\n64 Physical examina tion \\n1.1.4 Examine people wit h suspect ed ast hma t o identify e xpirat ory polyphonic wheez e \\nand signs of ot her causes of r espirat ory sympt oms but be awar e that e ven if \\nexamination r esult s are normal, t he person ma y still ha ve ast hma. [NICE 2017] \\nInitial tr eatmen t and obje ctive tests f or acu te sym ptoms a t \\npresen tation \\n1.1.5 Treat people immediat ely if t hey are acut ely unw ell or highly sympt omatic at \\npresentation, and per form objectiv e tests that ma y help suppor t a diagnosis of \\nasthma (f or example, eosinophil count , fractional e xhaled nitric o xide [F eNO], \\nspirometr y or peak e xpirat ory flow [PEF] bef ore and aft er br onchodilat or) if t he \\nequipment is a vailable. [NICE 2017 , amended BTS/NICE/SIGN 202 4] \\n1.1.6 If objectiv e tests for ast hma cannot be done immediat ely for people who ar e \\nacutely unw ell or highly sympt omatic at pr esentation, carr y them out when acut e \\nsympt oms ha ve been contr olled, and advise people t o contact t heir healt hcare \\nprofessional immediat ely if t hey become unw ell while waiting t o have objectiv e \\ntests. [NICE 2017 , amended BTS/NICE/SIGN 202 4] \\n1.1.7 Be awar e that t he result s of spir ometr y and FeNO t ests may be aff ected in people \\nwho ha ve been tr eated wit h inhaled cor ticost eroids (t he test result s are mor e \\nlikely to be normal). [NICE 2017] \\n1.2 O bjective tests f or diagnosing asthma in adul ts, \\nyoung pe ople and childr en ag ed 5 to 16 wi th a \\nhistor y sug gestive of asthma \\nAdults \\nSee also algorit hm A f or a summar y of objectiv e tests for diagnosing ast hma in adult s and'),\n",
       " Document(metadata={}, page_content='conditions such as f ood aller gies. \\nBronchial challeng e test \\nA test t o measur e airway responsiv eness (br onchial r esponsiv eness). It is per formed b y \\ngiving small incr ement s of a br onchoconstrict or (most commonly met hacholine) and \\nmeasuring t he FEV 1 after each dose until it f alls b y a pr edet ermined amount (usually 20% \\nfrom baseline). \\nBronchial h yperr esponsi veness \\nA measur e of ho w easily br onchospasm can be induced in t he air ways. It is measur ed \\nusing a br onchial challenge t est. \\nBronchodila tor r eversibility \\nA measur e of t he ability t o reverse obstruction in t he air ways using medicines t hat widen Asthma: diagnosis, monit oring and chr onic ast hma management (BTS, NICE, SIGN)\\n(NG2 45)\\n© NICE 202 4. All right s reserved. Subject t o Notice of right s (https://www .nice.or g.uk/t erms-and-\\nconditions#notice-of -right s).Page 33 of\\n64 the air ways (br onchodilat ors). \\nEosinop hil c ount \\nThe number of eosinophils (a type of whit e blood cell) measur ed in a blood sample. Their \\nlevels ar e raised in ast hma and ot her aller gic diseases, and less commonly wit h malignant \\ndiseases, parasit e infections, r eactions t o some medicines, and a small number of rar e \\ndiseases. \\nFeNO test \\nA test t hat measur es the amount of nitric o xide (NO) pr esent on e xhalation, usually \\nexpressed in par ts per billion. \\nFEV1 \\nThe amount of air t hat can be f orcibly e xhaled fr om t he lungs in one second (f orced \\nexpirat ory volume in one second). \\nLeuk otriene r eceptor an tagonist \\nA type of oral medicine t hat blocks cyst einyl leuk otrienes, used in t he tr eatment of ast hma \\nand seasonal aller gies. Also kno wn as leuk otriene modifiers. \\nLong-ac ting be ta2 agonist \\nA long-acting medicine t hat act s on beta-r ecept ors in t he air way to relax air way smoot h \\nmuscle and r elieve sympt oms of ast hma. \\nLong-ac ting m uscarinic r eceptor an tagonist')]"
      ]
     },
     "execution_count": 13,
     "metadata": {},
     "output_type": "execute_result"
    }
   ],
   "source": [
    "docs = retriever.invoke(\"How do I diagnose Asthma?\")\n",
    "docs"
   ]
  },
  {
   "cell_type": "code",
   "execution_count": 35,
   "metadata": {},
   "outputs": [],
   "source": [
    "# Define the template for answering user questions based on a provided context\n",
    "system_template = \"\"\"\n",
    "Answer the users question based on the below context:\n",
    "<context> {context} </context>\n",
    "Here is the question: <question> {question} </question>\n",
    "\"\"\"\n",
    "# Create a prompt template for the question-answering system\n",
    "question_answering_prompt = PromptTemplate(template=system_template, input_variables=[\"context\", \"question\"])\n",
    "output_parser = StrOutputParser()\n",
    "\n",
    "# Initialize the generative model for question answering\n",
    "model = ChatGroq(model=\"llama-3.2-3b-preview\", temperature=0, max_tokens=None, timeout=None, max_retries=2,)\n",
    "\n"
   ]
  },
  {
   "cell_type": "code",
   "execution_count": 42,
   "metadata": {},
   "outputs": [],
   "source": [
    "#from langchain.globals import set_debug\n",
    "#set_debug(True)\n",
    "rag_chain = question_answering_prompt | model | output_parser"
   ]
  },
  {
   "cell_type": "code",
   "execution_count": 43,
   "metadata": {},
   "outputs": [],
   "source": [
    "query = \"How do I diagnose Asthma?\"\n"
   ]
  },
  {
   "cell_type": "code",
   "execution_count": 44,
   "metadata": {},
   "outputs": [
    {
     "name": "stdout",
     "output_type": "stream",
     "text": [
      "\u001b[32;1m\u001b[1;3m[chain/start]\u001b[0m \u001b[1m[chain:RunnableSequence] Entering Chain run with input:\n",
      "\u001b[0m[inputs]\n",
      "\u001b[32;1m\u001b[1;3m[chain/start]\u001b[0m \u001b[1m[chain:RunnableSequence > prompt:PromptTemplate] Entering Prompt run with input:\n",
      "\u001b[0m[inputs]\n",
      "\u001b[36;1m\u001b[1;3m[chain/end]\u001b[0m \u001b[1m[chain:RunnableSequence > prompt:PromptTemplate] [0ms] Exiting Prompt run with output:\n",
      "\u001b[0m[outputs]\n",
      "\u001b[32;1m\u001b[1;3m[llm/start]\u001b[0m \u001b[1m[chain:RunnableSequence > llm:ChatGroq] Entering LLM run with input:\n",
      "\u001b[0m{\n",
      "  \"prompts\": [\n",
      "    \"Human: \\nAnswer the users question based on the below context:\\n<context> [Document(metadata={}, page_content='medical r ecords, alongside t he coded diagnostic entr y. [NICE 2017 , amended \\\\nBTS/NICE/SIGN 202 4] Asthma: diagnosis, monit oring and chr onic ast hma management (BTS, NICE, SIGN)\\\\n(NG2 45)\\\\n© NICE 202 4. All right s reserved. Subject t o Notice of right s (https://www .nice.or g.uk/t erms-and-\\\\nconditions#notice-of -right s).Page 9 of\\\\n64 Physical examina tion \\\\n1.1.4 Examine people wit h suspect ed ast hma t o identify e xpirat ory polyphonic wheez e \\\\nand signs of ot her causes of r espirat ory sympt oms but be awar e that e ven if \\\\nexamination r esult s are normal, t he person ma y still ha ve ast hma. [NICE 2017] \\\\nInitial tr eatmen t and obje ctive tests f or acu te sym ptoms a t \\\\npresen tation \\\\n1.1.5 Treat people immediat ely if t hey are acut ely unw ell or highly sympt omatic at \\\\npresentation, and per form objectiv e tests that ma y help suppor t a diagnosis of \\\\nasthma (f or example, eosinophil count , fractional e xhaled nitric o xide [F eNO], \\\\nspirometr y or peak e xpirat ory flow [PEF] bef ore and aft er br onchodilat or) if t he \\\\nequipment is a vailable. [NICE 2017 , amended BTS/NICE/SIGN 202 4] \\\\n1.1.6 If objectiv e tests for ast hma cannot be done immediat ely for people who ar e \\\\nacutely unw ell or highly sympt omatic at pr esentation, carr y them out when acut e \\\\nsympt oms ha ve been contr olled, and advise people t o contact t heir healt hcare \\\\nprofessional immediat ely if t hey become unw ell while waiting t o have objectiv e \\\\ntests. [NICE 2017 , amended BTS/NICE/SIGN 202 4] \\\\n1.1.7 Be awar e that t he result s of spir ometr y and FeNO t ests may be aff ected in people \\\\nwho ha ve been tr eated wit h inhaled cor ticost eroids (t he test result s are mor e \\\\nlikely to be normal). [NICE 2017] \\\\n1.2 O bjective tests f or diagnosing asthma in adul ts, \\\\nyoung pe ople and childr en ag ed 5 to 16 wi th a \\\\nhistor y sug gestive of asthma \\\\nAdults \\\\nSee also algorit hm A f or a summar y of objectiv e tests for diagnosing ast hma in adult s and'), Document(metadata={}, page_content='conditions such as f ood aller gies. \\\\nBronchial challeng e test \\\\nA test t o measur e airway responsiv eness (br onchial r esponsiv eness). It is per formed b y \\\\ngiving small incr ement s of a br onchoconstrict or (most commonly met hacholine) and \\\\nmeasuring t he FEV 1 after each dose until it f alls b y a pr edet ermined amount (usually 20% \\\\nfrom baseline). \\\\nBronchial h yperr esponsi veness \\\\nA measur e of ho w easily br onchospasm can be induced in t he air ways. It is measur ed \\\\nusing a br onchial challenge t est. \\\\nBronchodila tor r eversibility \\\\nA measur e of t he ability t o reverse obstruction in t he air ways using medicines t hat widen Asthma: diagnosis, monit oring and chr onic ast hma management (BTS, NICE, SIGN)\\\\n(NG2 45)\\\\n© NICE 202 4. All right s reserved. Subject t o Notice of right s (https://www .nice.or g.uk/t erms-and-\\\\nconditions#notice-of -right s).Page 33 of\\\\n64 the air ways (br onchodilat ors). \\\\nEosinop hil c ount \\\\nThe number of eosinophils (a type of whit e blood cell) measur ed in a blood sample. Their \\\\nlevels ar e raised in ast hma and ot her aller gic diseases, and less commonly wit h malignant \\\\ndiseases, parasit e infections, r eactions t o some medicines, and a small number of rar e \\\\ndiseases. \\\\nFeNO test \\\\nA test t hat measur es the amount of nitric o xide (NO) pr esent on e xhalation, usually \\\\nexpressed in par ts per billion. \\\\nFEV1 \\\\nThe amount of air t hat can be f orcibly e xhaled fr om t he lungs in one second (f orced \\\\nexpirat ory volume in one second). \\\\nLeuk otriene r eceptor an tagonist \\\\nA type of oral medicine t hat blocks cyst einyl leuk otrienes, used in t he tr eatment of ast hma \\\\nand seasonal aller gies. Also kno wn as leuk otriene modifiers. \\\\nLong-ac ting be ta2 agonist \\\\nA long-acting medicine t hat act s on beta-r ecept ors in t he air way to relax air way smoot h \\\\nmuscle and r elieve sympt oms of ast hma. \\\\nLong-ac ting m uscarinic r eceptor an tagonist')] </context>\\nHere is the question: <question> How do I diagnose Asthma? </question>\"\n",
      "  ]\n",
      "}\n",
      "\u001b[36;1m\u001b[1;3m[llm/end]\u001b[0m \u001b[1m[chain:RunnableSequence > llm:ChatGroq] [780ms] Exiting LLM run with output:\n",
      "\u001b[0m{\n",
      "  \"generations\": [\n",
      "    [\n",
      "      {\n",
      "        \"text\": \"According to the provided context, diagnosing asthma involves a combination of physical examination and objective tests. Here's a step-by-step guide:\\n\\n1. **Physical examination**: Examine people with suspected asthma to identify expiratory polyphonic wheeze and signs of other causes of respiratory symptoms. Be aware that even if examination results are normal, the person may still have asthma.\\n\\n2. **Initial treatment and objective tests for acute symptoms at presentation**:\\n   - Treat people immediately if they are acutely unwell or highly symptomatic at presentation.\\n   - Perform objective tests that may help support a diagnosis of asthma, such as:\\n     - Eosinophil count (the number of eosinophils in a blood sample)\\n     - Fractional exhaled nitric oxide (FeNO)\\n     - Spirometry (measuring the amount of air that can be forcibly exhaled from the lungs in one second, known as FEV1)\\n     - Peak expiratory flow (PEF) before and after bronchodilator\\n   - If objective tests cannot be done immediately, carry them out when acute symptoms have been controlled, and advise people to contact their healthcare professional immediately if they become unwell while waiting.\\n\\n3. **Bronchial challenge test**: A test to measure airway responsiveness (bronchial responsiveness). It involves giving small increments of a bronchoconstrictor (most commonly methacholine) and measuring the FEV1 after each dose until it falls by a predetermined amount (usually 20% from baseline).\\n\\n4. **Bronchodilator reversibility**: A measure of the ability to reverse obstruction in the airways using medicines that widen the airways (bronchodilators).\\n\\n5. **Other tests**: Depending on the individual's history, other tests may be performed, such as a bronchial hypresponsiveness test or a leukotriene receptor antagonist test.\\n\\nIt's essential to note that the results of spirometry and FeNO tests may be affected in people who have been treated with inhaled corticosteroids (the test results are more likely to be normal).\",\n",
      "        \"generation_info\": {\n",
      "          \"finish_reason\": \"stop\",\n",
      "          \"logprobs\": null\n",
      "        },\n",
      "        \"type\": \"ChatGeneration\",\n",
      "        \"message\": {\n",
      "          \"lc\": 1,\n",
      "          \"type\": \"constructor\",\n",
      "          \"id\": [\n",
      "            \"langchain\",\n",
      "            \"schema\",\n",
      "            \"messages\",\n",
      "            \"AIMessage\"\n",
      "          ],\n",
      "          \"kwargs\": {\n",
      "            \"content\": \"According to the provided context, diagnosing asthma involves a combination of physical examination and objective tests. Here's a step-by-step guide:\\n\\n1. **Physical examination**: Examine people with suspected asthma to identify expiratory polyphonic wheeze and signs of other causes of respiratory symptoms. Be aware that even if examination results are normal, the person may still have asthma.\\n\\n2. **Initial treatment and objective tests for acute symptoms at presentation**:\\n   - Treat people immediately if they are acutely unwell or highly symptomatic at presentation.\\n   - Perform objective tests that may help support a diagnosis of asthma, such as:\\n     - Eosinophil count (the number of eosinophils in a blood sample)\\n     - Fractional exhaled nitric oxide (FeNO)\\n     - Spirometry (measuring the amount of air that can be forcibly exhaled from the lungs in one second, known as FEV1)\\n     - Peak expiratory flow (PEF) before and after bronchodilator\\n   - If objective tests cannot be done immediately, carry them out when acute symptoms have been controlled, and advise people to contact their healthcare professional immediately if they become unwell while waiting.\\n\\n3. **Bronchial challenge test**: A test to measure airway responsiveness (bronchial responsiveness). It involves giving small increments of a bronchoconstrictor (most commonly methacholine) and measuring the FEV1 after each dose until it falls by a predetermined amount (usually 20% from baseline).\\n\\n4. **Bronchodilator reversibility**: A measure of the ability to reverse obstruction in the airways using medicines that widen the airways (bronchodilators).\\n\\n5. **Other tests**: Depending on the individual's history, other tests may be performed, such as a bronchial hypresponsiveness test or a leukotriene receptor antagonist test.\\n\\nIt's essential to note that the results of spirometry and FeNO tests may be affected in people who have been treated with inhaled corticosteroids (the test results are more likely to be normal).\",\n",
      "            \"response_metadata\": {\n",
      "              \"token_usage\": {\n",
      "                \"completion_tokens\": 430,\n",
      "                \"prompt_tokens\": 1346,\n",
      "                \"total_tokens\": 1776,\n",
      "                \"completion_time\": 0.250983547,\n",
      "                \"prompt_time\": 0.196989427,\n",
      "                \"queue_time\": 0.0009753329999999949,\n",
      "                \"total_time\": 0.447972974\n",
      "              },\n",
      "              \"model_name\": \"llama-3.2-3b-preview\",\n",
      "              \"system_fingerprint\": \"fp_a926bfdce1\",\n",
      "              \"finish_reason\": \"stop\",\n",
      "              \"logprobs\": null\n",
      "            },\n",
      "            \"type\": \"ai\",\n",
      "            \"id\": \"run-8874c96b-e0b0-4316-b13d-af075fc963a7-0\",\n",
      "            \"usage_metadata\": {\n",
      "              \"input_tokens\": 1346,\n",
      "              \"output_tokens\": 430,\n",
      "              \"total_tokens\": 1776\n",
      "            },\n",
      "            \"tool_calls\": [],\n",
      "            \"invalid_tool_calls\": []\n",
      "          }\n",
      "        }\n",
      "      }\n",
      "    ]\n",
      "  ],\n",
      "  \"llm_output\": {\n",
      "    \"token_usage\": {\n",
      "      \"completion_tokens\": 430,\n",
      "      \"prompt_tokens\": 1346,\n",
      "      \"total_tokens\": 1776,\n",
      "      \"completion_time\": 0.250983547,\n",
      "      \"prompt_time\": 0.196989427,\n",
      "      \"queue_time\": 0.0009753329999999949,\n",
      "      \"total_time\": 0.447972974\n",
      "    },\n",
      "    \"model_name\": \"llama-3.2-3b-preview\",\n",
      "    \"system_fingerprint\": \"fp_a926bfdce1\"\n",
      "  },\n",
      "  \"run\": null,\n",
      "  \"type\": \"LLMResult\"\n",
      "}\n",
      "\u001b[32;1m\u001b[1;3m[chain/start]\u001b[0m \u001b[1m[chain:RunnableSequence > parser:StrOutputParser] Entering Parser run with input:\n",
      "\u001b[0m[inputs]\n",
      "\u001b[36;1m\u001b[1;3m[chain/end]\u001b[0m \u001b[1m[chain:RunnableSequence > parser:StrOutputParser] [0ms] Exiting Parser run with output:\n",
      "\u001b[0m{\n",
      "  \"output\": \"According to the provided context, diagnosing asthma involves a combination of physical examination and objective tests. Here's a step-by-step guide:\\n\\n1. **Physical examination**: Examine people with suspected asthma to identify expiratory polyphonic wheeze and signs of other causes of respiratory symptoms. Be aware that even if examination results are normal, the person may still have asthma.\\n\\n2. **Initial treatment and objective tests for acute symptoms at presentation**:\\n   - Treat people immediately if they are acutely unwell or highly symptomatic at presentation.\\n   - Perform objective tests that may help support a diagnosis of asthma, such as:\\n     - Eosinophil count (the number of eosinophils in a blood sample)\\n     - Fractional exhaled nitric oxide (FeNO)\\n     - Spirometry (measuring the amount of air that can be forcibly exhaled from the lungs in one second, known as FEV1)\\n     - Peak expiratory flow (PEF) before and after bronchodilator\\n   - If objective tests cannot be done immediately, carry them out when acute symptoms have been controlled, and advise people to contact their healthcare professional immediately if they become unwell while waiting.\\n\\n3. **Bronchial challenge test**: A test to measure airway responsiveness (bronchial responsiveness). It involves giving small increments of a bronchoconstrictor (most commonly methacholine) and measuring the FEV1 after each dose until it falls by a predetermined amount (usually 20% from baseline).\\n\\n4. **Bronchodilator reversibility**: A measure of the ability to reverse obstruction in the airways using medicines that widen the airways (bronchodilators).\\n\\n5. **Other tests**: Depending on the individual's history, other tests may be performed, such as a bronchial hypresponsiveness test or a leukotriene receptor antagonist test.\\n\\nIt's essential to note that the results of spirometry and FeNO tests may be affected in people who have been treated with inhaled corticosteroids (the test results are more likely to be normal).\"\n",
      "}\n",
      "\u001b[36;1m\u001b[1;3m[chain/end]\u001b[0m \u001b[1m[chain:RunnableSequence] [783ms] Exiting Chain run with output:\n",
      "\u001b[0m{\n",
      "  \"output\": \"According to the provided context, diagnosing asthma involves a combination of physical examination and objective tests. Here's a step-by-step guide:\\n\\n1. **Physical examination**: Examine people with suspected asthma to identify expiratory polyphonic wheeze and signs of other causes of respiratory symptoms. Be aware that even if examination results are normal, the person may still have asthma.\\n\\n2. **Initial treatment and objective tests for acute symptoms at presentation**:\\n   - Treat people immediately if they are acutely unwell or highly symptomatic at presentation.\\n   - Perform objective tests that may help support a diagnosis of asthma, such as:\\n     - Eosinophil count (the number of eosinophils in a blood sample)\\n     - Fractional exhaled nitric oxide (FeNO)\\n     - Spirometry (measuring the amount of air that can be forcibly exhaled from the lungs in one second, known as FEV1)\\n     - Peak expiratory flow (PEF) before and after bronchodilator\\n   - If objective tests cannot be done immediately, carry them out when acute symptoms have been controlled, and advise people to contact their healthcare professional immediately if they become unwell while waiting.\\n\\n3. **Bronchial challenge test**: A test to measure airway responsiveness (bronchial responsiveness). It involves giving small increments of a bronchoconstrictor (most commonly methacholine) and measuring the FEV1 after each dose until it falls by a predetermined amount (usually 20% from baseline).\\n\\n4. **Bronchodilator reversibility**: A measure of the ability to reverse obstruction in the airways using medicines that widen the airways (bronchodilators).\\n\\n5. **Other tests**: Depending on the individual's history, other tests may be performed, such as a bronchial hypresponsiveness test or a leukotriene receptor antagonist test.\\n\\nIt's essential to note that the results of spirometry and FeNO tests may be affected in people who have been treated with inhaled corticosteroids (the test results are more likely to be normal).\"\n",
      "}\n",
      "According to the provided context, diagnosing asthma involves a combination of physical examination and objective tests. Here's a step-by-step guide:\n",
      "\n",
      "1. **Physical examination**: Examine people with suspected asthma to identify expiratory polyphonic wheeze and signs of other causes of respiratory symptoms. Be aware that even if examination results are normal, the person may still have asthma.\n",
      "\n",
      "2. **Initial treatment and objective tests for acute symptoms at presentation**:\n",
      "   - Treat people immediately if they are acutely unwell or highly symptomatic at presentation.\n",
      "   - Perform objective tests that may help support a diagnosis of asthma, such as:\n",
      "     - Eosinophil count (the number of eosinophils in a blood sample)\n",
      "     - Fractional exhaled nitric oxide (FeNO)\n",
      "     - Spirometry (measuring the amount of air that can be forcibly exhaled from the lungs in one second, known as FEV1)\n",
      "     - Peak expiratory flow (PEF) before and after bronchodilator\n",
      "   - If objective tests cannot be done immediately, carry them out when acute symptoms have been controlled, and advise people to contact their healthcare professional immediately if they become unwell while waiting.\n",
      "\n",
      "3. **Bronchial challenge test**: A test to measure airway responsiveness (bronchial responsiveness). It involves giving small increments of a bronchoconstrictor (most commonly methacholine) and measuring the FEV1 after each dose until it falls by a predetermined amount (usually 20% from baseline).\n",
      "\n",
      "4. **Bronchodilator reversibility**: A measure of the ability to reverse obstruction in the airways using medicines that widen the airways (bronchodilators).\n",
      "\n",
      "5. **Other tests**: Depending on the individual's history, other tests may be performed, such as a bronchial hypresponsiveness test or a leukotriene receptor antagonist test.\n",
      "\n",
      "It's essential to note that the results of spirometry and FeNO tests may be affected in people who have been treated with inhaled corticosteroids (the test results are more likely to be normal).\n"
     ]
    }
   ],
   "source": [
    "print(rag_chain.invoke({\"context\": docs, \"question\": query}))"
   ]
  },
  {
   "cell_type": "markdown",
   "metadata": {},
   "source": [
    "# Setup Question Generation"
   ]
  },
  {
   "cell_type": "code",
   "execution_count": 41,
   "metadata": {},
   "outputs": [],
   "source": [
    "# Define the QA generation prompt template\n",
    "QA_generation_prompt = \"\"\"\n",
    "Your task is to write a factoid question and an answer given a context.\n",
    "Your factoid question should be answerable with a specific, concise piece of factual information from the context.\n",
    "Your factoid question should be formulated in the same style as questions users could ask in a search engine.\n",
    "This means that your factoid question MUST NOT mention something like \"according to the passage\" or \"context\".\n",
    "\n",
    "Provide your answer as follows:\n",
    "\n",
    "Output:::\n",
    "Factoid question: (your factoid question)\n",
    "Answer: (your answer to the factoid question)\n",
    "\n",
    "Now here is the context.\n",
    "\n",
    "Context: {context}\\n\n",
    "Output:::\n",
    "\"\"\""
   ]
  },
  {
   "cell_type": "code",
   "execution_count": 55,
   "metadata": {},
   "outputs": [],
   "source": [
    "# Function to call the OpenAI API\n",
    "from openai import OpenAI\n",
    "def call_llm(prompt: str):\n",
    "    \"\"\"\n",
    "    Calls the OpenAI API to generate a response for a given prompt.\n",
    "\n",
    "    Args:\n",
    "        prompt (str): The input prompt for the LLM.\n",
    "        model (str): The OpenAI model to use (default is \"gpt-4\").\n",
    "\n",
    "    Returns:\n",
    "        str: The generated response from the LLM.\n",
    "    \"\"\"\n",
    "    client = OpenAI(api_key=os.getenv('OPENAI_API_KEY'))\n",
    "\n",
    "    response = client.chat.completions.create(\n",
    "        model=\"gpt-4o-2024-08-06\",\n",
    "        messages=[\n",
    "            {\"role\": \"system\", \"content\": prompt}\n",
    "        ],\n",
    "        temperature=0.7\n",
    "    )\n",
    "    return response.choices[0].message.content\n"
   ]
  },
  {
   "cell_type": "code",
   "execution_count": 42,
   "metadata": {},
   "outputs": [],
   "source": [
    "QA_generation_prompt = \"\"\"\n",
    "Your task is to write a factoid question and an answer given a context.\n",
    "Your factoid question should be answerable with a specific, concise piece of factual information from the context.\n",
    "Your factoid question should be formulated in the same style as questions users could ask in a search engine.\n",
    "This means that your factoid question MUST NOT mention something like \"according to the passage\" or \"context\".\n",
    "\n",
    "Provide your answer as follows:\n",
    "\n",
    "Output:::\n",
    "Factoid question: (your factoid question)\n",
    "Answer: (your answer to the factoid question)\n",
    "\n",
    "Now here is the context.\n",
    "\n",
    "Context: {context}\\n\n",
    "Output:::\"\"\""
   ]
  },
  {
   "cell_type": "code",
   "execution_count": 48,
   "metadata": {},
   "outputs": [
    {
     "name": "stdout",
     "output_type": "stream",
     "text": [
      "Generating 10 QA couples...\n"
     ]
    },
    {
     "name": "stderr",
     "output_type": "stream",
     "text": [
      "100%|██████████| 10/10 [00:13<00:00,  1.35s/it]"
     ]
    },
    {
     "name": "stdout",
     "output_type": "stream",
     "text": [
      "{'context': 'is not t he int ention of t he committ ee to stop people fr om tr ying r elaxation t herapies if t hey \\nwish t o, but t o mak e people awar e that t here is less e vidence f or benefit of t his \\nintervention compar ed wit h other lif estyle int erventions or pharmacological tr eatment. The \\ncommitt ee agr eed t hat t he clinical f ocus f or non-pharmacological tr eatment of \\nhyper tension should be on encouraging people t o mak e lifestyle changes, such as taking \\nregular e xercise and maintaining a healt hy weight. \\nThe committ ee agr eed t hat fur ther r esear ch w ould be useful t o det ermine whet her \\nrelaxation t herapies ar e a clinically eff ectiv e treatment f or hyper tension in t erms of \\nreducing car diovascular e vents or impr oving quality of lif e (see t he recommendation f or \\nresear ch on r elaxation t herapies ). The y also not ed that a lar ger study w ould be needed t o \\nobtain meaningful r esult s. \\nHow this mig ht affect practice \\nRelaxation t herapies w ere not r ecommended f or routine use in t he 2011 guideline, and t hey \\nare not used in curr ent practice f or the management of primar y hyper tension in adult s. The \\n2011 r ecommendation advised t hat people ma y try them as par t of t heir tr eatment t o \\nreduce blood pr essur e, but committ ee consensus was t hat uptak e has been lo w. \\nTher efore, curr ent practice will not be aff ected by the removal of t he 2011 \\nrecommendation. Hyper tension in adult s: diagnosis and management (NG136)\\n© NICE 202 4. All right s reserved. Subject t o Notice of right s (https://www .nice.or g.uk/t erms-and-\\nconditions#notice-of -right s).Page 33 of\\n52 Starting an tihyper tensi ve drug tr eatmen t \\nRecommendations 1 .4.9 to 1.4.14 \\nWhy the c ommi ttee made the r ecommenda tions \\nThe e vidence suggest ed that antih yper tensiv e drug tr eatment was eff ectiv e at r educing \\ncardiovascular e vents in people wit h a clinic blood pr essur e of 160/100  mmHg or mor e \\n(stage  2 hyper tension).', 'question': \"What was the committee's consensus on the uptake of relaxation therapies for hypertension treatment according to the 2011 guideline?\", 'answer': 'The committee consensus was that uptake has been low.'}\n",
      "{'context': \"antagonist  (LAMA) used in addition t o moderat e-dose MART . Give the \\nmedicine f or a trial period of 8 t o 12 w eeks unless t here are side eff ects. At \\nthe end of t he trial: \\n－ if ast hma is contr olled, continue t he tr eatment \\n－ if contr ol has impr oved but is still inadequat e, continue t he tr eatment and \\nstart a trial of t he ot her medicine (L TRA or L AMA) Asthma: diagnosis, monit oring and chr onic ast hma management (BTS, NICE, SIGN)\\n(NG2 45)\\n© NICE 202 4. All right s reserved. Subject t o Notice of right s (https://www .nice.or g.uk/t erms-and-\\nconditions#notice-of -right s).Page 20 of\\n64 • if contr ol has not impr oved, st op the LTRA or L AMA and star t a trial of t he \\nalternativ e medicine (L TRA or L AMA). [BTS/NICE/SIGN 202 4] \\nNovember 202 4: Follow the MHRA saf ety advice on t he risk of \\nneuropsy chiatric r eactions in people taking mont elukast . \\n1.7.6 Refer people t o a specialist in ast hma car e when ast hma is not contr olled despit e \\ntreatment wit h moderat e-dose MART , and trials of an L TRA and a L AMA. (See t he \\nAccelerat ed Access Collaborativ e consensus pat hway on t he management of \\nuncontr olled ast hma in adult s.) [BTS/NICE/SIGN 202 4] \\nFor a shor t explanation of wh y the committ ee made t hese r ecommendations and ho w \\nthey might aff ect practice, see t he rationale and impact section on medicine \\ncombination and sequencing in people aged 12 and o ver. \\nFull details of t he evidence and t he committ ee's discussion ar e in evidence r eview  Q: \\ndrug combinations and sequencing f or ast hma management . \\nTransf erring pe ople ag ed 12 and o ver fr om other tr eatmen t \\npathways \\nThese r ecommendations ar e for people wit h uncontr olled ast hma who ar e on t he \\ntreatment pat hway recommended b y previous NICE and BTS/SIGN guidelines. \\n1.7.7 Change tr eatment f or people wit h confirmed ast hma who ar e curr ently using a \\nshor t-acting beta 2 agonist (SABA) only t o a lo w-dose ICS/f ormot erol combination\", 'question': 'How long should the medicine be given for a trial period when using antagonist (LAMA) in addition to moderate-dose MART?', 'answer': '8 to 12 weeks.'}\n",
      "{'context': \"conditions#notice-of -right s).Page 16 of\\n64 • seasonal f actors \\n• environmental f actors (f or example, air pollution, indoor mould e xposur e). \\n[NICE 2017 , BTS/SIGN 2019 , amended BTS/NICE/SIGN 202 4] \\n1.6.2 If possible, check t he fractional e xhaled nitric o xide (F eNO) le vel when ast hma is \\nuncontr olled. If it is raised t his ma y indicat e poor adher ence t o treatment or t he \\nneed f or an incr eased dose of inhaled cor ticost eroid (ICS). [BTS/NICE/SIGN \\n202 4] \\n1.6.3 Do not pr escribe shor t-acting beta 2 agonist s to people of an y age wit h ast hma \\nwithout a concomitant pr escription of an ICS. [BTS/NICE/SIGN 202 4] \\n1.6.4 After star ting or adjusting medicines f or ast hma, r eview t he response t o \\ntreatment in 8 t o 12 w eeks (see t he recommendations on monit oring ast hma \\ncontr ol). [NICE 2017 , amended BTS/NICE/SIGN 202 4] \\nFor a shor t explanation of wh y the committ ee made t hese 202 4 recommendations \\nand ho w they might aff ect practice, see t he rationale and impact section on principles \\nof pharmacological tr eatment . \\nFull details of t he evidence and t he committ ee's discussion ar e in evidence r eview  P: \\ndrug classes f or initial ast hma management . \\nInhaler s \\n1.6.5 Base t he choice of inhaler(s) f or ast hma on: \\n• an assessment of corr ect t echnique \\n• the pr eference of t he person r eceiving t he tr eatment \\n• the lo west en vironmental impact among suitable de vices \\n• the pr esence of an int egral dose count er. \\nA spacer should usually be pr escribed f or use wit h a met ered dose inhaler , Asthma: diagnosis, monit oring and chr onic ast hma management (BTS, NICE, SIGN)\\n(NG2 45)\\n© NICE 202 4. All right s reserved. Subject t o Notice of right s (https://www .nice.or g.uk/t erms-and-\\nconditions#notice-of -right s).Page 17 of\\n64 particularly in childr en. See t he patient decision aid on ast hma inhalers and \\nclimat e change . [BTS/SIGN 2019 , amended BTS/NICE/SIGN 202 4]\", 'question': 'What should be checked when asthma is uncontrolled according to the guidelines?', 'answer': 'The fractional exhaled nitric oxide (FeNO) level.'}\n",
      "{'context': 'diagnosis of ast hma who ar e stable on t heir curr ent t herap y do not ha ve to swit ch \\ntreatment. P eople on curr ent pat hways who need an incr ease in tr eatment will be swit ched \\nto MART , but t his is one of t he curr ent options. Ther e should t herefore not be significant \\ndisruption t o ast hma car e. The new tr eatment st eps ar e cost -effectiv e for the NHS and in \\nparticular will r educe t he number of e xacerbations r equiring tr eatment and t he number of \\nhospital admissions f or ast hma. \\nReturn t o recommendations Asthma: diagnosis, monit oring and chr onic ast hma management (BTS, NICE, SIGN)\\n(NG2 45)\\n© NICE 202 4. All right s reserved. Subject t o Notice of right s (https://www .nice.or g.uk/t erms-and-\\nconditions#notice-of -right s).Page 54 of\\n64 Transf erring pe ople ag ed 12 and o ver fr om other \\ntreatmen t pathways \\nRecommendations 1 .7.7 to 1.7.11 \\nWhy the c ommi ttee made the r ecommenda tions \\nThe tr eatment pat hway recommended in t his guideline updat e for people aged 12 and o ver \\nrelies on using MART wit h incr easing dose of r egular ICS/f ormot erol, depending on \\nresponse t o treatment. This is a diff erent strat egy fr om t hat r ecommended b y previous \\nguidelines (NICE and BTS/SIGN) and man y people will be on tr eatment t hat is not par t of \\nthis new pat hway. The committ ee recognised t hat t his will cause a pr oblem f or these \\npeople when t heir ast hma is not contr olled. The y therefore discussed and agr eed ho w \\ntreatment should be changed in t hese cir cumstances. The y not ed that t he general advice \\nabout checking inhaler t echnique, adher ence, et c. (see recommendation 1 .6.1 in t he \\nsection on principles of pharmacological tr eatment ) bef ore escalating tr eatment still \\napplies her e. The r ecommendations ar e not based on a specific e vidence sear ch, but t he \\ncommitt ee not ed that people in t he MART studies r eview ed for recommendations 1 .7.3 to', 'question': 'What treatment pathway is recommended for people aged 12 and over for asthma management?', 'answer': 'MART with increasing dose of regular ICS/formoterol, depending on response to treatment.'}\n",
      "{'context': \"antagonist (L TRA) or a long-acting muscarinic r ecept or antagonist (L AMA). Evidence was \\navailable looking at t he addition of eit her an L TRA or a L AMA t o baseline tr eatment wit h \\nmoderat e-dose ICS or moderat e-dose ICS/L ABA, but t he 2 options w ere only compar ed \\ndirectly in 2 small studies. Alt hough t he comparison sho wed a r eduction in e xacerbations \\nwith a L AMA compar ed wit h an L TRA, t he committ ee did not ha ve much confidence in t he \\nresult because of t he small study population. The y not ed that it w ould be simpler t o add \\nan LTRA t han a L AMA because t he latt er would in volve needing t o teach t he person wit h \\nasthma ho w to use an additional inhaler de vice, and t he need f or 2 inhalers is also less \\nenvironmentally desirable. An L TRA is also cheaper , but t here is a risk of significant side \\neffects, par ticularly neur opsy chiatric disturbances. It was agr eed t hat t here was no \\nconvincing r eason t o recommend one option o ver the ot her and t hat t he person wit h \\nasthma should decide which should be tried first aft er a discussion of t he pot ential \\nbenefit s and harms. \\nIf these medicines ha ve been tried and t he person's ast hma continues t o be inadequat ely \\ncontr olled, fur ther tr eatment is a vailable using a v ariety of biologic agent s. Use of t hese \\nfalls out side t he scope of t his guideline and r equir es specialist assessment. The committ ee \\ntherefore recommended t hat a r eferral should be made at t his stage. \\nHow the r ecommenda tions mig ht affect practice \\nThe r ecommendations f or incr easing tr eatment ar e diff erent fr om curr ent standar d \\npractice, but t hey apply t o people wit h a new diagnosis of ast hma. P eople wit h an e xisting \\ndiagnosis of ast hma who ar e stable on t heir curr ent t herap y do not ha ve to swit ch \\ntreatment. P eople on curr ent pat hways who need an incr ease in tr eatment will be swit ched\", 'question': 'What type of medication is cheaper and simpler to add for asthma treatment, LTRA or LAMA?', 'answer': 'LTRA (leukotriene receptor antagonist) is cheaper and simpler to add.'}\n",
      "{'context': 'conditions#notice-of -right s).Page 37 of\\n52 targets should be used. The committ ee agr eed t hat in t he absence of e vidence t he focus \\nshould be on blood pr essur e tar gets, based on t heir e xper tise and e xperience of curr ent \\npractice. \\nThe e vidence f or blood pr essur e tar gets sho wed that t here were bot h benefit s and harms \\nassociat ed wit h a lo wer clinic syst olic blood pr essur e tar get of 120  mmHg compar ed wit h \\n140 mmHg in people wit h primar y hyper tension wit hout type  2 diabet es. Alt hough t he \\nevidence suggest ed some benefit in r educing mor tality and car diovascular e vents, the \\nlower blood pr essur e tar get was associat ed wit h a gr eater risk of harms, such as injur y \\nfrom falls and acut e kidne y injur y. The committ ee agr eed t hat t he long-t erm implications of \\nthese adv erse e vents were unclear and t hat fur ther r esear ch is needed. \\nThis e vidence came fr om t he SPRINT trial, which was a lar ge study under taken in t he US. \\nThe committ ee discussed concerns about t he population included in t he study and t he \\napplicability t o UK practice of t he met hods used. The study used aut omat ed blood \\npressur e devices wit h a time dela y and an isolat ed rest period, which is not common \\npractice in t he UK. The committ ee consider ed that t he use of t hese de vices w ould lead t o \\nlower blood pr essur e readings t han in r outine UK clinical practice. The y also had concerns \\nthat some medicines w ere stopped when blood pr essur e tar gets were achie ved, which \\nmay have had an impact on t he result s. The committ ee also discussed concerns about \\napplicability of t he population; f or example, t he par ticipant s had high car diovascular risk \\nlevels, including man y wit h pre-existing car diovascular disease or r enal impairment, and \\nwere already r eceiving tr eatment bef ore the study star ted. These concerns made t he', 'question': 'What was the lower systolic blood pressure target compared to the higher target in the SPRINT trial for people with primary hypertension without type 2 diabetes?', 'answer': '120 mmHg compared with 140 mmHg.'}\n",
      "{'context': 'over 80 wit h stage  1 hyper tension. W e also made changes t o intr oduct ory text to clarify \\nthat r ecommendations apply t o all adult s, including t hose wit h type  2 diabet es, unless \\nlinks t o other NICE guidelines indicat e that tr eatment diff ers. \\nISBN: 9 78-1-47 31-5589- 3 Hyper tension in adult s: diagnosis and management (NG136)\\n© NICE 202 4. All right s reserved. Subject t o Notice of right s (https://www .nice.or g.uk/t erms-and-\\nconditions#notice-of -right s).Page 52 of\\n52Asthma: diagnosis, \\nmoni toring and chr onic \\nasthma manag emen t (BTS, \\nNICE, SI GN) \\nNICE guideline \\nPublished: 27 No vember 202 4 \\nwww .nice.or g.uk/guidance/ng2 45 \\n© NICE 202 4. All right s reserved. Subject t o Notice of right s (https://www .nice.or g.uk/t erms-and-\\nconditions#notice-of -right s). Your r esponsi bility \\nThe r ecommendations in t his guideline r epresent t he view of NICE, arriv ed at aft er car eful \\nconsideration of t he evidence a vailable. When e xercising t heir judgement, pr ofessionals \\nand practitioners ar e expect ed to tak e this guideline fully int o account, alongside t he \\nindividual needs, pr eferences and v alues of t heir patient s or t he people using t heir ser vice. \\nIt is not mandat ory to apply t he recommendations, and t he guideline does not o verride t he \\nresponsibility t o mak e decisions appr opriat e to the cir cumstances of t he individual, in \\nconsultation wit h them and t heir f amilies and car ers or guar dian. \\nAll pr oblems (adv erse e vents) related to a medicine or medical de vice used f or treatment \\nor in a pr ocedur e should be r epor ted to the Medicines and Healt hcare product s Regulat ory \\nAgency using t he Yellow Car d Scheme . \\nLocal commissioners and pr oviders of healt hcare have a responsibility t o enable t he \\nguideline t o be applied when individual pr ofessionals and people using ser vices wish t o \\nuse it. The y should do so in t he cont ext of local and national priorities f or funding and', 'question': 'What is the ISBN number for the NICE guideline on hypertension in adults?', 'answer': '978-1-4731-5589-3'}\n",
      "{'context': \"treatment wit h drugs tak en only once a da y. [2004] \\n1.4.27 Prescribe non-pr oprietar y drugs if t hese ar e appr opriat e and minimise cost. \\n[2004] \\n1.4.28 Offer people wit h isolat ed syst olic h yper tension (syst olic blood pr essur e \\n160 mmHg or mor e) the same tr eatment as people wit h bot h raised syst olic and \\ndiast olic blood pr essur e. [2004] \\n1.4.29 Offer antih yper tensiv e drug tr eatment t o women of childbearing pot ential wit h \\ndiagnosed h yper tension in line wit h the recommendations in t his guideline. F or \\nwomen considering pr egnancy or who ar e pregnant or br eastf eeding, manage \\nhyper tension in line wit h the recommendations on management of pr egnancy \\nwith chr onic h yper tension, and on antih yper tensiv e treatment while \\nbreastf eeding in NICE's guideline on h yper tension in pr egnancy . [2010 , amended \\n2019] \\n1.4.30 When choosing antih yper tensiv e drug tr eatment f or adult s of Black African or \\nAfrican–Caribbean f amily origin, consider an angiot ensin  II recept or block er \\n(ARB), in pr eference t o an angiot ensin-con verting enzyme (A CE) inhibit or. [2019] \\nFollow the MHRA saf ety advice on A CE inhibit ors and angiot ensin II r ecept or \\nantagonist s: not f or use in pr egnancy , how to use f or br eastf eeding  and \\nclarification on br eastf eeding . \\n1.4.31 For people wit h car diovascular disease: Hyper tension in adult s: diagnosis and management (NG136)\\n© NICE 202 4. All right s reserved. Subject t o Notice of right s (https://www .nice.or g.uk/t erms-and-\\nconditions#notice-of -right s).Page 18 of\\n52 • Follow the recommendations f or disease-specific indications in t he NICE \\nguideline on t heir condition (f or example, when pr escribing an A CE inhibit or \\nor an ARB f or secondar y prevention of m yocardial inf arction). R elevant \\nrecommendations include: \\n－ drug t herap y for secondar y prevention in NICE's guideline on acut e \\ncoronar y syndr omes\", 'question': 'What type of drug is recommended for adults of Black African or African–Caribbean family origin when choosing antihypertensive treatment?', 'answer': 'Angiotensin II receptor blocker (ARB)'}\n",
      "{'context': 'regular ICS w ere seen in r educing e xacerbations or hospital admissions. Ther e was no \\nadvantage t o using r egular ICS/SABA inst ead of r egular ICS alone. \\nIn making r ecommendations f or this age gr oup, t he committ ee took int o account t he \\ndifficulty of making a firm diagnosis of ast hma. Episodes of cough and wheezing can occur \\nwith recurr ent viral inf ections and be difficult t o distinguish fr om ast hma, and t here are \\nconcerns about tr eating y oung childr en wit h long-t erm ICS when t hey ma y not need t hem. \\nThe committ ee w ere awar e of e vidence out side t he review of diagnostic t ests sho wing \\nthat ast hma is mor e likely than r ecurr ent viral wheez e when t he episodes ar e frequent or \\nsevere, when t hey occur in t he absence of ot her signs of viral illness and when t he child \\nshows ot her e vidence of at opy. The y made r ecommendations on t he staged intr oduction \\nof ICS as par t of t he diagnostic pr ocess in inf ants. The y agr eed t hat y oung childr en wit h \\nrecurr ent wheez e and f eatur es suggesting ast hma should be tr eated empirically wit h a lo w \\ndose of ICS f or 8 t o 12 w eeks, and t hen t his can be st opped. If sympt oms soon r e-appear \\nafter st opping ICS, t his suggest s that t he ICS was beneficial rat her t han t he impr ovement \\nbeing due t o the natural r emission of a viral episode. Once t he pr esence of ast hma is \\nestablished wit h reasonable cer tainty t he committ ee agr eed t hat r egular paediatric lo w-\\ndose ICS should be r estar ted, wit h subsequent st eps added if needed. \\nAs diagnosis in t his age gr oup is so difficult, t he committ ee agr eed t hat t hresholds f or \\nreferral t o an ast hma specialist should be lo w. Asthma: diagnosis, monit oring and chr onic ast hma management (BTS, NICE, SIGN)\\n(NG2 45)\\n© NICE 202 4. All right s reserved. Subject t o Notice of right s (https://www .nice.or g.uk/t erms-and-\\nconditions#notice-of -right s).Page 58 of', 'question': 'What treatment is recommended for young children with recurrent wheeze and features suggesting asthma?', 'answer': 'A low dose of ICS for 8 to 12 weeks.'}\n",
      "{'context': \"© NICE 202 4. All right s reserved. Subject t o Notice of right s (https://www .nice.or g.uk/t erms-and-\\nconditions#notice-of -right s).Page 9 of\\n52 healt hcare options wit h people wit h hyper tension, bot h for raised blood pr essur e \\nand ot her modifiable risk f actors. [2004] \\n1.3.2 Estimat e car diovascular risk in line wit h the recommendations on identifying and \\nassessing car diovascular disease risk in NICE's guideline on car diovascular \\ndisease . Use clinic blood pr essur e measur ement s to calculat e car diovascular risk. \\n[2008] \\n1.3.3 For all people wit h hyper tension off er to: \\n• test for the pr esence of pr otein in t he urine b y sending a urine sample f or \\nestimation of t he albumin:cr eatinine ratio and t est for haematuria using a \\nreagent strip \\n• take a blood sample t o measur e gly cated haemoglobin (Hb A1C), electr olytes, \\ncreatinine, estimat ed glomerular filtration rat e, total cholest erol and HDL \\ncholest erol \\n• examine t he fundi f or the pr esence of h yper tensiv e retinopat hy \\n• arrange f or a 12-lead electr ocardiograph t o be per formed. [2011 , amended \\n2019] \\n1.4 T reating and moni toring h yper tension \\nLifestyle in terventions \\nFor guidance on t he pr evention of obesity and car diovascular disease, see NICE's \\nguidelines on obesity pr evention  and cardiovascular disease pr evention . \\n1.4.1 Offer lifestyle advice t o people wit h suspect ed or diagnosed h yper tension, and \\ncontinue t o off er it periodically . [2004] \\n1.4.2 Ask about people's diet and e xercise patt erns because a healt hy diet and r egular \\nexercise can r educe blood pr essur e. Off er appr opriat e guidance and writt en or \\naudio visual mat erials t o promot e lifestyle changes. [2004] Hyper tension in adult s: diagnosis and management (NG136)\\n© NICE 202 4. All right s reserved. Subject t o Notice of right s (https://www .nice.or g.uk/t erms-and-\\nconditions#notice-of -right s).Page 10 of\", 'question': 'What test is used to check for the presence of protein in the urine for people with hypertension?', 'answer': 'Estimation of the albumin:creatinine ratio.'}\n"
     ]
    },
    {
     "name": "stderr",
     "output_type": "stream",
     "text": [
      "\n"
     ]
    }
   ],
   "source": [
    "N_GENERATIONS = 10\n",
    "\n",
    "print(f\"Generating {N_GENERATIONS} QA couples...\")\n",
    "\n",
    "# Generate QA pairs\n",
    "outputs = []\n",
    "for sampled_context in tqdm.tqdm(random.sample(chunks, min(N_GENERATIONS, len(chunks)))):\n",
    "    # Generate QA couple\n",
    "    try:\n",
    "        formatted_prompt = QA_generation_prompt.format(context=sampled_context)\n",
    "        output_QA_couple = call_llm(formatted_prompt)\n",
    "        # Extract question and answer from the output\n",
    "        question = output_QA_couple.split(\"Factoid question: \")[-1].split(\"Answer: \")[0].strip()\n",
    "        answer = output_QA_couple.split(\"Answer: \")[-1].strip()\n",
    "        # Validate and append to outputs\n",
    "        assert len(answer) < 300, \"Answer is too long\"\n",
    "        outputs.append(\n",
    "            {\n",
    "                \"context\": sampled_context,\n",
    "                \"question\": question,\n",
    "                \"answer\": answer,\n",
    "                \n",
    "            }\n",
    "        )\n",
    "    except Exception as e:\n",
    "        print(f\"Skipped a context due to error: {e}\")\n",
    "        continue\n",
    "\n",
    "# Print generated outputs\n",
    "for output in outputs:\n",
    "    print(output)"
   ]
  },
  {
   "cell_type": "code",
   "execution_count": 51,
   "metadata": {},
   "outputs": [
    {
     "data": {
      "text/html": [
       "<div>\n",
       "<style scoped>\n",
       "    .dataframe tbody tr th:only-of-type {\n",
       "        vertical-align: middle;\n",
       "    }\n",
       "\n",
       "    .dataframe tbody tr th {\n",
       "        vertical-align: top;\n",
       "    }\n",
       "\n",
       "    .dataframe thead th {\n",
       "        text-align: right;\n",
       "    }\n",
       "</style>\n",
       "<table border=\"1\" class=\"dataframe\">\n",
       "  <thead>\n",
       "    <tr style=\"text-align: right;\">\n",
       "      <th></th>\n",
       "      <th>context</th>\n",
       "      <th>question</th>\n",
       "      <th>answer</th>\n",
       "    </tr>\n",
       "  </thead>\n",
       "  <tbody>\n",
       "    <tr>\n",
       "      <th>0</th>\n",
       "      <td>is not t he int ention of t he committ ee to s...</td>\n",
       "      <td>What was the committee's consensus on the upta...</td>\n",
       "      <td>The committee consensus was that uptake has be...</td>\n",
       "    </tr>\n",
       "  </tbody>\n",
       "</table>\n",
       "</div>"
      ],
      "text/plain": [
       "                                             context  \\\n",
       "0  is not t he int ention of t he committ ee to s...   \n",
       "\n",
       "                                            question  \\\n",
       "0  What was the committee's consensus on the upta...   \n",
       "\n",
       "                                              answer  \n",
       "0  The committee consensus was that uptake has be...  "
      ]
     },
     "metadata": {},
     "output_type": "display_data"
    }
   ],
   "source": [
    "display(pd.DataFrame(outputs).head(1))"
   ]
  },
  {
   "cell_type": "markdown",
   "metadata": {},
   "source": [
    "### Question Filtering with Critiques"
   ]
  },
  {
   "cell_type": "code",
   "execution_count": 56,
   "metadata": {},
   "outputs": [],
   "source": [
    "question_groundedness_critique_prompt = \"\"\"\n",
    "You will be given a context and a question.\n",
    "Your task is to provide a 'total rating' scoring how well one can answer the given question unambiguously with the given context.\n",
    "Give your answer on a scale of 1 to 5, where 1 means that the question is not answerable at all given the context, and 5 means that the question is clearly and unambiguously answerable with the context.\n",
    "\n",
    "Provide your answer as follows:\n",
    "\n",
    "Answer:::\n",
    "Evaluation: (your rationale for the rating, as a text)\n",
    "Total rating: (your rating, as a number between 1 and 5)\n",
    "\n",
    "You MUST provide values for 'Evaluation:' and 'Total rating:' in your answer.\n",
    "\n",
    "Now here are the question and context.\n",
    "\n",
    "Question: {question}\\n\n",
    "Context: {context}\\n\n",
    "Answer::: \"\"\"\n",
    "\n",
    "question_relevance_critique_prompt = \"\"\"\n",
    "You will be given a question.\n",
    "Your task is to provide a 'total rating' representing how useful this question can be to machine learning developers building NLP applications with the Hugging Face ecosystem.\n",
    "Give your answer on a scale of 1 to 5, where 1 means that the question is not useful at all, and 5 means that the question is extremely useful.\n",
    "\n",
    "Provide your answer as follows:\n",
    "\n",
    "Answer:::\n",
    "Evaluation: (your rationale for the rating, as a text)\n",
    "Total rating: (your rating, as a number between 1 and 5)\n",
    "\n",
    "You MUST provide values for 'Evaluation:' and 'Total rating:' in your answer.\n",
    "\n",
    "Now here is the question.\n",
    "\n",
    "Question: {question}\\n\n",
    "Answer::: \"\"\"\n",
    "\n",
    "question_standalone_critique_prompt = \"\"\"\n",
    "You will be given a question.\n",
    "Your task is to provide a 'total rating' representing how context-independant this question is.\n",
    "Give your answer on a scale of 1 to 5, where 1 means that the question depends on additional information to be understood, and 5 means that the question makes sense by itself.\n",
    "For instance, if the question refers to a particular setting, like 'in the context' or 'in the document', the rating must be 1.\n",
    "The questions can contain obscure technical nouns or acronyms like Gradio, Hub, Hugging Face or Space and still be a 5: it must simply be clear to an operator with access to documentation what the question is about.\n",
    "\n",
    "For instance, \"What is the name of the checkpoint from which the ViT model is imported?\" should receive a 1, since there is an implicit mention of a context, thus the question is not independant from the context.\n",
    "\n",
    "Provide your answer as follows:\n",
    "\n",
    "Answer:::\n",
    "Evaluation: (your rationale for the rating, as a text)\n",
    "Total rating: (your rating, as a number between 1 and 5)\n",
    "\n",
    "You MUST provide values for 'Evaluation:' and 'Total rating:' in your answer.\n",
    "\n",
    "Now here is the question.\n",
    "\n",
    "Question: {question}\\n\n",
    "Answer::: \"\"\""
   ]
  },
  {
   "cell_type": "code",
   "execution_count": 58,
   "metadata": {},
   "outputs": [
    {
     "name": "stdout",
     "output_type": "stream",
     "text": [
      "Generating critique for each QA couple...\n"
     ]
    },
    {
     "name": "stderr",
     "output_type": "stream",
     "text": [
      "100%|██████████| 10/10 [00:51<00:00,  5.16s/it]\n"
     ]
    }
   ],
   "source": [
    "print(\"Generating critique for each QA couple...\")\n",
    "for output in tqdm.tqdm(outputs):\n",
    "    evaluations = {\n",
    "        \"groundedness\": call_llm(\n",
    "            question_groundedness_critique_prompt.format(context=output[\"context\"], question=output[\"question\"]),\n",
    "        ),\n",
    "        \"relevance\": call_llm(\n",
    "            question_relevance_critique_prompt.format(question=output[\"question\"]),\n",
    "        ),\n",
    "        \"standalone\": call_llm(\n",
    "            question_standalone_critique_prompt.format(question=output[\"question\"]),\n",
    "        ),\n",
    "    }\n",
    "    try:\n",
    "        for criterion, evaluation in evaluations.items():\n",
    "            score, eval = (\n",
    "                int(evaluation.split(\"Total rating: \")[-1].strip()),\n",
    "                evaluation.split(\"Total rating: \")[-2].split(\"Evaluation: \")[1],\n",
    "            )\n",
    "            output.update(\n",
    "                {\n",
    "                    f\"{criterion}_score\": score,\n",
    "                    f\"{criterion}_eval\": eval,\n",
    "                }\n",
    "            )\n",
    "    except Exception as e:\n",
    "        continue\n",
    "\n"
   ]
  },
  {
   "cell_type": "code",
   "execution_count": 61,
   "metadata": {},
   "outputs": [
    {
     "name": "stdout",
     "output_type": "stream",
     "text": [
      "Evaluation dataset before filtering:\n"
     ]
    },
    {
     "data": {
      "text/html": [
       "<div>\n",
       "<style scoped>\n",
       "    .dataframe tbody tr th:only-of-type {\n",
       "        vertical-align: middle;\n",
       "    }\n",
       "\n",
       "    .dataframe tbody tr th {\n",
       "        vertical-align: top;\n",
       "    }\n",
       "\n",
       "    .dataframe thead th {\n",
       "        text-align: right;\n",
       "    }\n",
       "</style>\n",
       "<table border=\"1\" class=\"dataframe\">\n",
       "  <thead>\n",
       "    <tr style=\"text-align: right;\">\n",
       "      <th></th>\n",
       "      <th>question</th>\n",
       "      <th>answer</th>\n",
       "      <th>groundedness_score</th>\n",
       "      <th>relevance_score</th>\n",
       "      <th>standalone_score</th>\n",
       "    </tr>\n",
       "  </thead>\n",
       "  <tbody>\n",
       "    <tr>\n",
       "      <th>0</th>\n",
       "      <td>What was the committee's consensus on the uptake of relaxation therapies for hypertension treatment according to the 2011 guideline?</td>\n",
       "      <td>The committee consensus was that uptake has been low.</td>\n",
       "      <td>5</td>\n",
       "      <td>1</td>\n",
       "      <td>1</td>\n",
       "    </tr>\n",
       "    <tr>\n",
       "      <th>1</th>\n",
       "      <td>How long should the medicine be given for a trial period when using antagonist (LAMA) in addition to moderate-dose MART?</td>\n",
       "      <td>8 to 12 weeks.</td>\n",
       "      <td>5</td>\n",
       "      <td>1</td>\n",
       "      <td>2</td>\n",
       "    </tr>\n",
       "    <tr>\n",
       "      <th>2</th>\n",
       "      <td>What should be checked when asthma is uncontrolled according to the guidelines?</td>\n",
       "      <td>The fractional exhaled nitric oxide (FeNO) level.</td>\n",
       "      <td>5</td>\n",
       "      <td>1</td>\n",
       "      <td>1</td>\n",
       "    </tr>\n",
       "    <tr>\n",
       "      <th>3</th>\n",
       "      <td>What treatment pathway is recommended for people aged 12 and over for asthma management?</td>\n",
       "      <td>MART with increasing dose of regular ICS/formoterol, depending on response to treatment.</td>\n",
       "      <td>3</td>\n",
       "      <td>1</td>\n",
       "      <td>5</td>\n",
       "    </tr>\n",
       "    <tr>\n",
       "      <th>4</th>\n",
       "      <td>What type of medication is cheaper and simpler to add for asthma treatment, LTRA or LAMA?</td>\n",
       "      <td>LTRA (leukotriene receptor antagonist) is cheaper and simpler to add.</td>\n",
       "      <td>5</td>\n",
       "      <td>1</td>\n",
       "      <td>5</td>\n",
       "    </tr>\n",
       "    <tr>\n",
       "      <th>5</th>\n",
       "      <td>What was the lower systolic blood pressure target compared to the higher target in the SPRINT trial for people with primary hypertension without type 2 diabetes?</td>\n",
       "      <td>120 mmHg compared with 140 mmHg.</td>\n",
       "      <td>5</td>\n",
       "      <td>1</td>\n",
       "      <td>2</td>\n",
       "    </tr>\n",
       "    <tr>\n",
       "      <th>6</th>\n",
       "      <td>What is the ISBN number for the NICE guideline on hypertension in adults?</td>\n",
       "      <td>978-1-4731-5589-3</td>\n",
       "      <td>5</td>\n",
       "      <td>1</td>\n",
       "      <td>1</td>\n",
       "    </tr>\n",
       "    <tr>\n",
       "      <th>7</th>\n",
       "      <td>What type of drug is recommended for adults of Black African or African–Caribbean family origin when choosing antihypertensive treatment?</td>\n",
       "      <td>Angiotensin II receptor blocker (ARB)</td>\n",
       "      <td>5</td>\n",
       "      <td>1</td>\n",
       "      <td>5</td>\n",
       "    </tr>\n",
       "    <tr>\n",
       "      <th>8</th>\n",
       "      <td>What treatment is recommended for young children with recurrent wheeze and features suggesting asthma?</td>\n",
       "      <td>A low dose of ICS for 8 to 12 weeks.</td>\n",
       "      <td>5</td>\n",
       "      <td>1</td>\n",
       "      <td>5</td>\n",
       "    </tr>\n",
       "    <tr>\n",
       "      <th>9</th>\n",
       "      <td>What test is used to check for the presence of protein in the urine for people with hypertension?</td>\n",
       "      <td>Estimation of the albumin:creatinine ratio.</td>\n",
       "      <td>5</td>\n",
       "      <td>1</td>\n",
       "      <td>5</td>\n",
       "    </tr>\n",
       "  </tbody>\n",
       "</table>\n",
       "</div>"
      ],
      "text/plain": [
       "                                                                                                                                                            question  \\\n",
       "0                               What was the committee's consensus on the uptake of relaxation therapies for hypertension treatment according to the 2011 guideline?   \n",
       "1                                           How long should the medicine be given for a trial period when using antagonist (LAMA) in addition to moderate-dose MART?   \n",
       "2                                                                                    What should be checked when asthma is uncontrolled according to the guidelines?   \n",
       "3                                                                           What treatment pathway is recommended for people aged 12 and over for asthma management?   \n",
       "4                                                                          What type of medication is cheaper and simpler to add for asthma treatment, LTRA or LAMA?   \n",
       "5  What was the lower systolic blood pressure target compared to the higher target in the SPRINT trial for people with primary hypertension without type 2 diabetes?   \n",
       "6                                                                                          What is the ISBN number for the NICE guideline on hypertension in adults?   \n",
       "7                          What type of drug is recommended for adults of Black African or African–Caribbean family origin when choosing antihypertensive treatment?   \n",
       "8                                                             What treatment is recommended for young children with recurrent wheeze and features suggesting asthma?   \n",
       "9                                                                  What test is used to check for the presence of protein in the urine for people with hypertension?   \n",
       "\n",
       "                                                                                     answer  \\\n",
       "0                                     The committee consensus was that uptake has been low.   \n",
       "1                                                                            8 to 12 weeks.   \n",
       "2                                         The fractional exhaled nitric oxide (FeNO) level.   \n",
       "3  MART with increasing dose of regular ICS/formoterol, depending on response to treatment.   \n",
       "4                     LTRA (leukotriene receptor antagonist) is cheaper and simpler to add.   \n",
       "5                                                          120 mmHg compared with 140 mmHg.   \n",
       "6                                                                         978-1-4731-5589-3   \n",
       "7                                                     Angiotensin II receptor blocker (ARB)   \n",
       "8                                                      A low dose of ICS for 8 to 12 weeks.   \n",
       "9                                               Estimation of the albumin:creatinine ratio.   \n",
       "\n",
       "   groundedness_score  relevance_score  standalone_score  \n",
       "0                   5                1                 1  \n",
       "1                   5                1                 2  \n",
       "2                   5                1                 1  \n",
       "3                   3                1                 5  \n",
       "4                   5                1                 5  \n",
       "5                   5                1                 2  \n",
       "6                   5                1                 1  \n",
       "7                   5                1                 5  \n",
       "8                   5                1                 5  \n",
       "9                   5                1                 5  "
      ]
     },
     "metadata": {},
     "output_type": "display_data"
    },
    {
     "name": "stdout",
     "output_type": "stream",
     "text": [
      "============================================\n",
      "Final evaluation dataset:\n"
     ]
    },
    {
     "data": {
      "text/html": [
       "<div>\n",
       "<style scoped>\n",
       "    .dataframe tbody tr th:only-of-type {\n",
       "        vertical-align: middle;\n",
       "    }\n",
       "\n",
       "    .dataframe tbody tr th {\n",
       "        vertical-align: top;\n",
       "    }\n",
       "\n",
       "    .dataframe thead th {\n",
       "        text-align: right;\n",
       "    }\n",
       "</style>\n",
       "<table border=\"1\" class=\"dataframe\">\n",
       "  <thead>\n",
       "    <tr style=\"text-align: right;\">\n",
       "      <th></th>\n",
       "      <th>question</th>\n",
       "      <th>answer</th>\n",
       "      <th>groundedness_score</th>\n",
       "      <th>relevance_score</th>\n",
       "      <th>standalone_score</th>\n",
       "    </tr>\n",
       "  </thead>\n",
       "  <tbody>\n",
       "  </tbody>\n",
       "</table>\n",
       "</div>"
      ],
      "text/plain": [
       "Empty DataFrame\n",
       "Columns: [question, answer, groundedness_score, relevance_score, standalone_score]\n",
       "Index: []"
      ]
     },
     "metadata": {},
     "output_type": "display_data"
    },
    {
     "ename": "NameError",
     "evalue": "name 'datasets' is not defined",
     "output_type": "error",
     "traceback": [
      "\u001b[0;31m---------------------------------------------------------------------------\u001b[0m",
      "\u001b[0;31mNameError\u001b[0m                                 Traceback (most recent call last)",
      "Cell \u001b[0;32mIn[61], line 36\u001b[0m\n\u001b[1;32m     23\u001b[0m \u001b[38;5;28mprint\u001b[39m(\u001b[38;5;124m\"\u001b[39m\u001b[38;5;124mFinal evaluation dataset:\u001b[39m\u001b[38;5;124m\"\u001b[39m)\n\u001b[1;32m     24\u001b[0m display(\n\u001b[1;32m     25\u001b[0m     generated_questions[\n\u001b[1;32m     26\u001b[0m         [\n\u001b[0;32m   (...)\u001b[0m\n\u001b[1;32m     33\u001b[0m     ]\n\u001b[1;32m     34\u001b[0m )\n\u001b[0;32m---> 36\u001b[0m eval_dataset \u001b[38;5;241m=\u001b[39m \u001b[43mdatasets\u001b[49m\u001b[38;5;241m.\u001b[39mDataset\u001b[38;5;241m.\u001b[39mfrom_pandas(generated_questions, split\u001b[38;5;241m=\u001b[39m\u001b[38;5;124m\"\u001b[39m\u001b[38;5;124mtrain\u001b[39m\u001b[38;5;124m\"\u001b[39m, preserve_index\u001b[38;5;241m=\u001b[39m\u001b[38;5;28;01mFalse\u001b[39;00m)\n",
      "\u001b[0;31mNameError\u001b[0m: name 'datasets' is not defined"
     ]
    }
   ],
   "source": [
    "\n",
    "pd.set_option(\"display.max_colwidth\", None)\n",
    "\n",
    "generated_questions = pd.DataFrame.from_dict(outputs)\n",
    "\n",
    "print(\"Evaluation dataset before filtering:\")\n",
    "display(\n",
    "    generated_questions[\n",
    "        [\n",
    "            \"question\",\n",
    "            \"answer\",\n",
    "            \"groundedness_score\",\n",
    "            \"relevance_score\",\n",
    "            \"standalone_score\",\n",
    "        ]\n",
    "    ]\n",
    ")\n",
    "generated_questions = generated_questions.loc[\n",
    "    (generated_questions[\"groundedness_score\"] >= 4)\n",
    "    & (generated_questions[\"relevance_score\"] >= 4)\n",
    "    & (generated_questions[\"standalone_score\"] >= 4)\n",
    "]\n",
    "print(\"============================================\")\n",
    "print(\"Final evaluation dataset:\")\n",
    "display(\n",
    "    generated_questions[\n",
    "        [\n",
    "            \"question\",\n",
    "            \"answer\",\n",
    "            \"groundedness_score\",\n",
    "            \"relevance_score\",\n",
    "            \"standalone_score\",\n",
    "        ]\n",
    "    ]\n",
    ")\n",
    "\n",
    "eval_dataset = datasets.Dataset.from_pandas(generated_questions, split=\"train\", preserve_index=False)"
   ]
  },
  {
   "cell_type": "code",
   "execution_count": null,
   "metadata": {},
   "outputs": [],
   "source": []
  }
 ],
 "metadata": {
  "kernelspec": {
   "display_name": ".venv",
   "language": "python",
   "name": "python3"
  },
  "language_info": {
   "codemirror_mode": {
    "name": "ipython",
    "version": 3
   },
   "file_extension": ".py",
   "mimetype": "text/x-python",
   "name": "python",
   "nbconvert_exporter": "python",
   "pygments_lexer": "ipython3",
   "version": "3.12.2"
  }
 },
 "nbformat": 4,
 "nbformat_minor": 2
}
